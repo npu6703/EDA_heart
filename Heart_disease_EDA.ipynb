{
 "cells": [
  {
   "cell_type": "raw",
   "id": "33f835a0-1419-470a-b2f1-6c3c9ca153e9",
   "metadata": {},
   "source": [
    "Using the Heart_disease_cleveland_new dataset\n",
    "EDA "
   ]
  },
  {
   "cell_type": "code",
   "execution_count": 1,
   "id": "86922d12-f7c2-4736-b979-2808ce470f2f",
   "metadata": {},
   "outputs": [],
   "source": [
    "import pandas as pd\n",
    "import numpy as np\n",
    "import plotly.express as px\n",
    "import warnings\n",
    "# warnings.filterwarnings('ignore')"
   ]
  },
  {
   "cell_type": "code",
   "execution_count": 2,
   "id": "399cee29-e06b-4db8-8906-5b1ccd77041f",
   "metadata": {},
   "outputs": [],
   "source": [
    "# Set plotting style\n",
    "# plt.style.use('seaborn-v0_8')\n",
    "# sns.set_palette(\"husl\")\n",
    "\n",
    "# Load the dataset\n",
    "df = pd.read_csv(\"/Users/phuonguyennguyen/Documents/Programming languages/EDA_heart/data/Heart_disease_cleveland_new.csv\")"
   ]
  },
  {
   "cell_type": "code",
   "execution_count": 6,
   "id": "0cd4c495-0e85-4421-aa6a-5ea19c31bf73",
   "metadata": {},
   "outputs": [
    {
     "data": {
      "text/html": [
       "<div>\n",
       "<style scoped>\n",
       "    .dataframe tbody tr th:only-of-type {\n",
       "        vertical-align: middle;\n",
       "    }\n",
       "\n",
       "    .dataframe tbody tr th {\n",
       "        vertical-align: top;\n",
       "    }\n",
       "\n",
       "    .dataframe thead th {\n",
       "        text-align: right;\n",
       "    }\n",
       "</style>\n",
       "<table border=\"1\" class=\"dataframe\">\n",
       "  <thead>\n",
       "    <tr style=\"text-align: right;\">\n",
       "      <th></th>\n",
       "      <th>age</th>\n",
       "      <th>sex</th>\n",
       "      <th>cp</th>\n",
       "      <th>trestbps</th>\n",
       "      <th>chol</th>\n",
       "      <th>fbs</th>\n",
       "      <th>restecg</th>\n",
       "      <th>thalach</th>\n",
       "      <th>exang</th>\n",
       "      <th>oldpeak</th>\n",
       "      <th>slope</th>\n",
       "      <th>ca</th>\n",
       "      <th>thal</th>\n",
       "      <th>target</th>\n",
       "    </tr>\n",
       "  </thead>\n",
       "  <tbody>\n",
       "    <tr>\n",
       "      <th>0</th>\n",
       "      <td>63</td>\n",
       "      <td>1</td>\n",
       "      <td>0</td>\n",
       "      <td>145</td>\n",
       "      <td>233</td>\n",
       "      <td>1</td>\n",
       "      <td>2</td>\n",
       "      <td>150</td>\n",
       "      <td>0</td>\n",
       "      <td>2.3</td>\n",
       "      <td>2</td>\n",
       "      <td>0</td>\n",
       "      <td>2</td>\n",
       "      <td>0</td>\n",
       "    </tr>\n",
       "    <tr>\n",
       "      <th>1</th>\n",
       "      <td>67</td>\n",
       "      <td>1</td>\n",
       "      <td>3</td>\n",
       "      <td>160</td>\n",
       "      <td>286</td>\n",
       "      <td>0</td>\n",
       "      <td>2</td>\n",
       "      <td>108</td>\n",
       "      <td>1</td>\n",
       "      <td>1.5</td>\n",
       "      <td>1</td>\n",
       "      <td>3</td>\n",
       "      <td>1</td>\n",
       "      <td>1</td>\n",
       "    </tr>\n",
       "    <tr>\n",
       "      <th>2</th>\n",
       "      <td>67</td>\n",
       "      <td>1</td>\n",
       "      <td>3</td>\n",
       "      <td>120</td>\n",
       "      <td>229</td>\n",
       "      <td>0</td>\n",
       "      <td>2</td>\n",
       "      <td>129</td>\n",
       "      <td>1</td>\n",
       "      <td>2.6</td>\n",
       "      <td>1</td>\n",
       "      <td>2</td>\n",
       "      <td>3</td>\n",
       "      <td>1</td>\n",
       "    </tr>\n",
       "    <tr>\n",
       "      <th>3</th>\n",
       "      <td>37</td>\n",
       "      <td>1</td>\n",
       "      <td>2</td>\n",
       "      <td>130</td>\n",
       "      <td>250</td>\n",
       "      <td>0</td>\n",
       "      <td>0</td>\n",
       "      <td>187</td>\n",
       "      <td>0</td>\n",
       "      <td>3.5</td>\n",
       "      <td>2</td>\n",
       "      <td>0</td>\n",
       "      <td>1</td>\n",
       "      <td>0</td>\n",
       "    </tr>\n",
       "    <tr>\n",
       "      <th>4</th>\n",
       "      <td>41</td>\n",
       "      <td>0</td>\n",
       "      <td>1</td>\n",
       "      <td>130</td>\n",
       "      <td>204</td>\n",
       "      <td>0</td>\n",
       "      <td>2</td>\n",
       "      <td>172</td>\n",
       "      <td>0</td>\n",
       "      <td>1.4</td>\n",
       "      <td>0</td>\n",
       "      <td>0</td>\n",
       "      <td>1</td>\n",
       "      <td>0</td>\n",
       "    </tr>\n",
       "  </tbody>\n",
       "</table>\n",
       "</div>"
      ],
      "text/plain": [
       "   age  sex  cp  trestbps  chol  fbs  restecg  thalach  exang  oldpeak  slope  \\\n",
       "0   63    1   0       145   233    1        2      150      0      2.3      2   \n",
       "1   67    1   3       160   286    0        2      108      1      1.5      1   \n",
       "2   67    1   3       120   229    0        2      129      1      2.6      1   \n",
       "3   37    1   2       130   250    0        0      187      0      3.5      2   \n",
       "4   41    0   1       130   204    0        2      172      0      1.4      0   \n",
       "\n",
       "   ca  thal  target  \n",
       "0   0     2       0  \n",
       "1   3     1       1  \n",
       "2   2     3       1  \n",
       "3   0     1       0  \n",
       "4   0     1       0  "
      ]
     },
     "execution_count": 6,
     "metadata": {},
     "output_type": "execute_result"
    }
   ],
   "source": [
    "df.head()"
   ]
  },
  {
   "cell_type": "code",
   "execution_count": 7,
   "id": "de4aa037-01ff-434c-ace3-b87de1320eb8",
   "metadata": {},
   "outputs": [
    {
     "name": "stdout",
     "output_type": "stream",
     "text": [
      "No missing values found!\n"
     ]
    }
   ],
   "source": [
    "#find missing values \n",
    "missing_data = df.isnull().sum()\n",
    "if missing_data.sum() > 0:\n",
    "    print(missing_data[missing_data > 0])\n",
    "else:\n",
    "    print(\"No missing values found!\")"
   ]
  },
  {
   "cell_type": "code",
   "execution_count": 8,
   "id": "8177929c-6669-4f5b-8d48-d79f02802c40",
   "metadata": {},
   "outputs": [
    {
     "name": "stdout",
     "output_type": "stream",
     "text": [
      "No duplicated values found!\n"
     ]
    }
   ],
   "source": [
    "#check for duplicates    \n",
    "duplicates = df.duplicated().sum()\n",
    "if duplicates.sum() > 0:\n",
    "    print(f\"{duplicates} duplicate rows found\")\n",
    "else:\n",
    "    print(\"No duplicated values found!\")"
   ]
  },
  {
   "cell_type": "code",
   "execution_count": 9,
   "id": "3e4f47f2",
   "metadata": {},
   "outputs": [
    {
     "name": "stdout",
     "output_type": "stream",
     "text": [
      "<class 'pandas.core.frame.DataFrame'>\n",
      "RangeIndex: 303 entries, 0 to 302\n",
      "Data columns (total 14 columns):\n",
      " #   Column    Non-Null Count  Dtype  \n",
      "---  ------    --------------  -----  \n",
      " 0   age       303 non-null    int64  \n",
      " 1   sex       303 non-null    int64  \n",
      " 2   cp        303 non-null    int64  \n",
      " 3   trestbps  303 non-null    int64  \n",
      " 4   chol      303 non-null    int64  \n",
      " 5   fbs       303 non-null    int64  \n",
      " 6   restecg   303 non-null    int64  \n",
      " 7   thalach   303 non-null    int64  \n",
      " 8   exang     303 non-null    int64  \n",
      " 9   oldpeak   303 non-null    float64\n",
      " 10  slope     303 non-null    int64  \n",
      " 11  ca        303 non-null    int64  \n",
      " 12  thal      303 non-null    int64  \n",
      " 13  target    303 non-null    int64  \n",
      "dtypes: float64(1), int64(13)\n",
      "memory usage: 33.3 KB\n"
     ]
    },
    {
     "data": {
      "text/plain": [
       "age           int64\n",
       "sex           int64\n",
       "cp            int64\n",
       "trestbps      int64\n",
       "chol          int64\n",
       "fbs           int64\n",
       "restecg       int64\n",
       "thalach       int64\n",
       "exang         int64\n",
       "oldpeak     float64\n",
       "slope         int64\n",
       "ca            int64\n",
       "thal          int64\n",
       "target        int64\n",
       "dtype: object"
      ]
     },
     "execution_count": 9,
     "metadata": {},
     "output_type": "execute_result"
    }
   ],
   "source": [
    "#Understand about the dataset\n",
    "df.info()\n",
    "df.shape\n",
    "df.dtypes"
   ]
  },
  {
   "cell_type": "markdown",
   "id": "2584c2f6",
   "metadata": {},
   "source": [
    "Summary of the dataset!\n",
    "The dataset consists of 303 individuals' data. There are 14 variables in this dataset. There is no missing values or duplicated values. Meaning of each column name:\n",
    "Age: Patients Age in years (Numeric)\n",
    "Sex: Gender (Male : 1; Female : 0) (Nominal)\n",
    "cp: Type of chest pain experienced by patient. This term categorized into 4 category.\n",
    "0 typical angina, 1 atypical angina, 2 non- anginal pain, 3 asymptomatic (Nominal)\n",
    "trestbps: patient's level of blood pressure at resting mode in mm/HG (Numerical)\n",
    "chol: Serum cholesterol in mg/dl (Numeric)\n",
    "fbs: Blood sugar levels on fasting > 120 mg/dl represents as 1 in case of true and 0 as false (Nominal)\n",
    "restecg: Result of electrocardiogram while at rest are represented in 3 distinct values\n",
    "0 : Normal 1: having ST-T wave abnormality (T wave inversions and/or ST elevation or depression of >\n",
    "0.05 mV) 2: showing probable or definite left ventricular hypertrophyby Estes' criteria (Nominal)\n",
    "thalach: Maximum heart rate achieved (Numeric)\n",
    "exang: Angina induced by exercise 0 depicting NO 1 depicting Yes (Nominal)\n",
    "oldpeak: Exercise induced ST-depression in relative with the state of rest (Numeric)\n",
    "slope: ST segment measured in terms of slope during peak exercise\n",
    "0: up sloping; 1: flat; 2: down sloping(Nominal)\n",
    "ca: The number of major vessels (0–3)(nominal)\n",
    "thal: A blood disorder called thalassemia\n",
    "0: NULL 1: normal blood flow 2: fixed defect (no blood flow in some part of the heart) 3: reversible defect (a blood flow is observed but it is not normal(nominal)\n",
    "target: It is the target variable which we have to predict 1 means patient is suffering from heart disease and 0 means patient is normal.\n",
    "\n",
    "Insights Found:     \n",
    "Some features such as thal, cp, slope, restecg, ca are categorical but represented as numbers "
   ]
  },
  {
   "cell_type": "code",
   "execution_count": 22,
   "id": "fce81ae5-d469-45c3-831b-7888ba60bfc0",
   "metadata": {},
   "outputs": [
    {
     "name": "stdout",
     "output_type": "stream",
     "text": [
      "Age difference t-test:\n",
      "  Mean age (No disease): 52.6 years\n",
      "  Mean age (Disease): 56.6 years\n",
      "  p-value: 0.0001\n",
      "  Significant: Yes\n",
      "\n",
      "Gender-Disease association (Chi-square test):\n",
      "  Chi-square statistic: 22.0426\n",
      "  p-value: 0.0000\n",
      "  Significant: Yes\n"
     ]
    }
   ],
   "source": [
    "#T-test and chi-squared test\n",
    "def perform_statistical_tests():\n",
    "    # Test 1: Age difference between groups\n",
    "    no_disease = df[df['target'] == 0]['age']\n",
    "    disease = df[df['target'] == 1]['age']\n",
    "    \n",
    "    t_stat, p_value = stats.ttest_ind(no_disease, disease)\n",
    "    print(f\"Age difference t-test:\")\n",
    "    print(f\"  Mean age (No disease): {no_disease.mean():.1f} years\")\n",
    "    print(f\"  Mean age (Disease): {disease.mean():.1f} years\")\n",
    "    print(f\"  p-value: {p_value:.4f}\")\n",
    "    print(f\"  Significant: {'Yes' if p_value < 0.05 else 'No'}\")\n",
    "    \n",
    "    # Test 2: Gender association\n",
    "    from scipy.stats import chi2_contingency\n",
    "    gender_crosstab = pd.crosstab(df['sex'], df['target'])\n",
    "    chi2, p_value, dof, expected = chi2_contingency(gender_crosstab)\n",
    "    print(f\"\\nGender-Disease association (Chi-square test):\")\n",
    "    print(f\"  Chi-square statistic: {chi2:.4f}\")\n",
    "    print(f\"  p-value: {p_value:.4f}\")\n",
    "    print(f\"  Significant: {'Yes' if p_value < 0.05 else 'No'}\")\n",
    "\n",
    "from scipy import stats\n",
    "perform_statistical_tests()"
   ]
  },
  {
   "cell_type": "code",
   "execution_count": 24,
   "id": "b408ef56",
   "metadata": {},
   "outputs": [
    {
     "name": "stdout",
     "output_type": "stream",
     "text": [
      "DEMOGRAPHIC RISK FACTORS:\n",
      "• Male heart disease rate: 55.3%\n",
      "• Female heart disease rate: 25.8%\n",
      "• Average age with disease: 56.6 years\n",
      "• Average age without disease: 52.6 years\n",
      "\n",
      "CLINICAL RECOMMENDATIONS:\n",
      "• Focus screening on males (higher risk)\n",
      "• Implement age-based screening protocols\n",
      "• Monitor chest pain symptoms carefully\n",
      "• Regular cardiovascular health assessments\n"
     ]
    }
   ],
   "source": [
    "#key takeaways and clinical recommendations\n",
    "def generate_insights():\n",
    "    # Calculate key statistics\n",
    "    male_disease_rate = df[df['sex'] == 1]['target'].mean() * 100\n",
    "    female_disease_rate = df[df['sex'] == 0]['target'].mean() * 100\n",
    "    \n",
    "    avg_age_disease = df[df['target'] == 1]['age'].mean()\n",
    "    avg_age_no_disease = df[df['target'] == 0]['age'].mean()\n",
    "    \n",
    "    print(\"DEMOGRAPHIC RISK FACTORS:\")\n",
    "    print(f\"• Male heart disease rate: {male_disease_rate:.1f}%\")\n",
    "    print(f\"• Female heart disease rate: {female_disease_rate:.1f}%\")\n",
    "    print(f\"• Average age with disease: {avg_age_disease:.1f} years\")\n",
    "    print(f\"• Average age without disease: {avg_age_no_disease:.1f} years\")\n",
    "    \n",
    "    print(\"\\nCLINICAL RECOMMENDATIONS:\")\n",
    "    print(\"• Focus screening on males (higher risk)\")\n",
    "    print(\"• Implement age-based screening protocols\")\n",
    "    print(\"• Monitor chest pain symptoms carefully\")\n",
    "    print(\"• Regular cardiovascular health assessments\")\n",
    "\n",
    "generate_insights()"
   ]
  }
 ],
 "metadata": {
  "kernelspec": {
   "display_name": "base",
   "language": "python",
   "name": "python3"
  },
  "language_info": {
   "codemirror_mode": {
    "name": "ipython",
    "version": 3
   },
   "file_extension": ".py",
   "mimetype": "text/x-python",
   "name": "python",
   "nbconvert_exporter": "python",
   "pygments_lexer": "ipython3",
   "version": "3.12.2"
  }
 },
 "nbformat": 4,
 "nbformat_minor": 5
}
